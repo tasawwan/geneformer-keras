{
 "cells": [
  {
   "cell_type": "markdown",
   "id": "2cf38209-9444-4a0d-a4f9-3cc0eb8bf272",
   "metadata": {},
   "source": [
    "# Baseline Models\n",
    "\n",
    "Create baseline models to compare geneformer to on fine-tuning task"
   ]
  },
  {
   "cell_type": "code",
   "execution_count": 1,
   "id": "50e519d6-a29b-4933-ad75-36bb9db0c96f",
   "metadata": {},
   "outputs": [],
   "source": [
    "# /ihome/kyin/niandrew/.conda/envs/tf_gpu\n",
    "# /ix1/kyin/niandrew/custom_miniconda\n",
    "# source /ix1/kyin/niandrew/custom_miniconda/bin/activate tf_gpu\n",
    "!source /ix1/kyin/niandrew/custom_miniconda/bin/activate tf_gpu\n",
    "!export XLA_FLAGS=--xla_gpu_cuda_data_dir=/ihome/kyin/niandrew/.conda/envs/tf_gpu/lib/\n",
    "!export LD_LIBRARY_PATH=$LD_LIBRARY_PATH:/ihome/kyin/niandrew/.conda/envs/tf_gpu/lib/\n",
    "\n",
    "# !export CUDNN_PATH=$(dirname $(python -c \"import nvidia.cudnn;print(nvidia.cudnn.__file__)\"))\n",
    "# !export LD_LIBRARY_PATH=${CUDNN_PATH}/lib"
   ]
  },
  {
   "cell_type": "markdown",
   "id": "2ed63571-0fb8-4202-9433-f7cdc92e9af8",
   "metadata": {},
   "source": [
    "## Load Packages"
   ]
  },
  {
   "cell_type": "code",
   "execution_count": 2,
   "id": "ae42e54d-975c-4cf2-a7ec-0288ddbeb117",
   "metadata": {},
   "outputs": [
    {
     "name": "stderr",
     "output_type": "stream",
     "text": [
      "2024-05-06 02:19:11.612550: I tensorflow/core/util/port.cc:113] oneDNN custom operations are on. You may see slightly different numerical results due to floating-point round-off errors from different computation orders. To turn them off, set the environment variable `TF_ENABLE_ONEDNN_OPTS=0`.\n",
      "2024-05-06 02:19:11.659189: I tensorflow/core/platform/cpu_feature_guard.cc:210] This TensorFlow binary is optimized to use available CPU instructions in performance-critical operations.\n",
      "To enable the following instructions: AVX2 AVX512F AVX512_VNNI AVX512_BF16 AVX512_FP16 AVX_VNNI AMX_TILE AMX_INT8 AMX_BF16 FMA, in other operations, rebuild TensorFlow with the appropriate compiler flags.\n",
      "2024-05-06 02:19:12.732171: W tensorflow/compiler/tf2tensorrt/utils/py_utils.cc:38] TF-TRT Warning: Could not find TensorRT\n"
     ]
    }
   ],
   "source": [
    "from datasets import load_dataset\n",
    "from tqdm import tqdm\n",
    "import pickle\n",
    "import matplotlib.pyplot as plt\n",
    "import datetime\n",
    "import pandas as pd\n",
    "\n",
    "import os\n",
    "os.environ[\"KERAS_BACKEND\"] = \"jax\"  # or \"tensorflow\" or \"torch\"\n",
    "\n",
    "import keras_nlp\n",
    "import tensorflow as tf\n",
    "import keras\n",
    "\n",
    "import tensorflow as tf\n",
    "import numpy as np\n",
    "from sklearn.metrics import accuracy_score\n",
    "import matplotlib.pyplot as plt\n",
    "from sklearn.ensemble import RandomForestClassifier\n",
    "from sklearn.linear_model import LogisticRegression\n",
    "from sklearn.svm import SVC\n",
    "from sklearn.naive_bayes import GaussianNB, MultinomialNB\n",
    "from sklearn.neural_network import MLPClassifier\n",
    "import numpy as np"
   ]
  },
  {
   "cell_type": "markdown",
   "id": "9787af3a-80b1-4bc9-afa3-10c8c443dc9d",
   "metadata": {},
   "source": [
    "## Parameters"
   ]
  },
  {
   "cell_type": "code",
   "execution_count": 3,
   "id": "a9490bcc-285e-49ed-8abf-16d80cc102b2",
   "metadata": {},
   "outputs": [],
   "source": [
    "# Parameters\n",
    "SEQ_LENGTH = 512"
   ]
  },
  {
   "cell_type": "markdown",
   "id": "bd29e2d4-f45d-469e-a43f-e57dbba35d44",
   "metadata": {},
   "source": [
    "## Load Data"
   ]
  },
  {
   "cell_type": "code",
   "execution_count": 4,
   "id": "6de6a387-644a-4489-bf89-5ba65f68b206",
   "metadata": {},
   "outputs": [],
   "source": [
    "# Load Vocab File\n",
    "with open('token_dictionary.pkl', 'rb') as file:\n",
    "    vocab_dict = pickle.load(file)\n",
    "vocab_list = list(vocab_dict.keys())\n",
    "vocab_list.append('<unk>')\n",
    "VOCAB_SIZE = len(vocab_list)\n",
    "\n",
    "# Load Cell Type Label File\n",
    "with open('immune-c2s/label_dictionary.pkl', 'rb') as file:\n",
    "    label_dict = pickle.load(file)\n",
    "label_list = list(label_dict.keys())\n",
    "NUM_CLASSES = len(label_dict)"
   ]
  },
  {
   "cell_type": "code",
   "execution_count": 5,
   "id": "0463fa05-fc56-4dc5-95c2-18505b3a0270",
   "metadata": {},
   "outputs": [
    {
     "name": "stderr",
     "output_type": "stream",
     "text": [
      "2024-05-06 02:19:15.417534: W tensorflow/core/common_runtime/gpu/gpu_bfc_allocator.cc:47] Overriding orig_value setting because the TF_FORCE_GPU_ALLOW_GROWTH environment variable is set. Original config value was 0.\n",
      "2024-05-06 02:19:15.417730: I tensorflow/core/common_runtime/gpu/gpu_device.cc:1928] Created device /job:localhost/replica:0/task:0/device:GPU:0 with 43626 MB memory:  -> device: 0, name: NVIDIA L40S, pci bus id: 0000:4a:00.0, compute capability: 8.9\n"
     ]
    }
   ],
   "source": [
    "# Finetuning\n",
    "\n",
    "# Tokenizer\n",
    "tokenizer = keras_nlp.tokenizers.WordPieceTokenizer(\n",
    "    vocabulary=vocab_list,\n",
    "    sequence_length=SEQ_LENGTH,\n",
    "    lowercase=False,\n",
    "    oov_token='<unk>',\n",
    "    split=True\n",
    ")\n",
    "\n",
    "def preprocess(inputs, labels):\n",
    "    return tokenizer(inputs), labels"
   ]
  },
  {
   "cell_type": "code",
   "execution_count": 6,
   "id": "4aaf6de4-081a-4df8-b900-9ba92fda7b93",
   "metadata": {
    "scrolled": true
   },
   "outputs": [
    {
     "name": "stdout",
     "output_type": "stream",
     "text": [
      "(<tf.Tensor: shape=(512,), dtype=int32, numpy=\n",
      "array([12172,  1720, 17247, 17200, 16979, 11842, 18941, 16596, 17326,\n",
      "       25426, 19823, 13620,  9761,  7502, 25426,  3906, 17269,  8229,\n",
      "         512, 12698, 16910,   454,  7606, 25426, 25426, 25426,  9215,\n",
      "       11358,  8256, 17295,  3482, 10390, 17303,  6861,  6022, 25426,\n",
      "       25426, 25426,  9945, 25426, 17314, 10511, 25426, 10877,  8160,\n",
      "       10225,  7892, 17905,  9940,  8231,  3502,  8456, 15602,  3664,\n",
      "       19999, 17228, 17208,  3567, 20069,  8385, 16445, 25426, 25426,\n",
      "        3081, 14125,  1513,  2649, 13128, 15993,  6961,  8565, 13058,\n",
      "        2183, 12504,  3792, 24346,  8385, 18971,  9142,  2400,  5448,\n",
      "       14983, 16980,  8177, 17297,  1522, 13620,   391,  2992, 25426,\n",
      "         998,  4761,  8456,  7111,   309,  4387,  8626,  1823,  7422,\n",
      "       10639, 15506, 11319,  8981,   856,  5304, 14180,  6206,  3537,\n",
      "        2522, 25426,  6681, 25426, 19770,  3039, 13062, 11032,  6881,\n",
      "        3141, 16572, 25426,  1543,  8674, 18591,  1806,  5357, 10601,\n",
      "        1984,   396, 25426, 12688,   458, 25426,  3917, 14120,  2928,\n",
      "       11054,  6090,  7913, 17005,  4002,  1614, 17536, 17451,  2770,\n",
      "        6252, 16906, 15803, 18589, 10949, 11049,   971,  4919, 12017,\n",
      "       11347,  5950, 16481, 25426, 25426, 25426,  4698, 25426, 25426,\n",
      "       25426,  6376,  7457,   382,  3259, 19925, 16913, 14341, 10871,\n",
      "       10057, 25426,  1626,  5246, 25426,  5675,  6487, 13466, 10388,\n",
      "        4547,  8425,  2852, 13352,  9536, 16154, 20601, 14816, 25426,\n",
      "        4774, 10887,  2631, 20426,   955, 13486,   695, 25426,  7252,\n",
      "       20841, 15659, 25426,  8208, 11543, 13506,  6736, 10689, 12692,\n",
      "        6000,  3257, 17715,  2985, 15255,  2250,  3717,  1147,  3192,\n",
      "        1014, 25426,  3922,  3468, 13380,  2360, 13272,  8165,  2694,\n",
      "        7326,  6427, 16297,  8277, 12218, 16683, 12182,  9936, 18489,\n",
      "       25426,  5212,  7027,  2804,  8205, 16812,  5906,  8867, 25426,\n",
      "       25426, 25426,  6489,  1007, 17071, 12529,  5354, 25426, 22668,\n",
      "        7212,  9814, 25426, 11897,  3827,  9929,  3364,  7055,  8783,\n",
      "       10862, 11828,     7,  3841, 10491, 12527,  7143,  2975,  2124,\n",
      "       10292,  2951, 15658, 14388,  7272,  1425, 11408,  5081,  8098,\n",
      "       11898, 17236,  7521,  7029, 25426, 15481, 10744, 17877,   553,\n",
      "         299,   361,  6419,  5353, 10594, 10600, 14299,  4088, 11576,\n",
      "       12460,  3736,  3852,  5569,  1129, 25426, 25426, 25426, 25426,\n",
      "        3950,  2497, 12860, 18798, 16411, 19848,  4887, 25426,  5531,\n",
      "       14116,  5748,  5902,  1968, 17182,    60, 10509,  2250,  3557,\n",
      "         890,   169, 19475,  9089, 13381, 15152,  6427,  3698,  5785,\n",
      "        4337,  9260,  4193,  5815,  5069,  1745,  2658, 15470,  7819,\n",
      "       13443,  5285,  7954, 11543,  5538,  6383,  3908,  6797,  3055,\n",
      "       10245, 16239, 14628,  9581,  6148,  3796,  1791, 22881, 11185,\n",
      "       11937,  5776,  8752,  7041,  1864, 13749, 11143,  8398,  2952,\n",
      "        5750, 11553,  3758,  7188, 17224, 10471, 11284,  3037,  2257,\n",
      "        9588,  5334, 13698,  6128, 15069,  8578, 16348, 14172,  9731,\n",
      "       11287,   171, 11826,  2242,  6981,  1460,  9154,  7764,  5891,\n",
      "        8796,  7379,  5421,  1889,  4809,  3399,  2546,  2710,  7883,\n",
      "       14047,  3094, 13774, 25032, 12508,  6238, 15358,  8701,  4225,\n",
      "       15507, 14955, 15242,    76, 19788, 25426, 25426, 25426,  2987,\n",
      "        1683,  9101,  8447,  2791,  5074,  5927,  2908, 14947,  5986,\n",
      "         805,  3431,  6091,  7301,  5048,  3390,  6213,   703,  5848,\n",
      "        7010, 11815,  3351,  8090,  8416, 16663,  6410, 14930, 25426,\n",
      "       25426, 25426,  4499, 17929,  2362,  4406, 11485,  2399,  7345,\n",
      "       17272, 11087,   599, 25426,  5826,  9094, 20023,  2074, 15641,\n",
      "       12398, 11585, 11572,  5963,  9793,  5647,  1871,  2409,  7117,\n",
      "        2145, 14294, 14170,  9119,   590,  6220, 12262,  4209,  9020,\n",
      "        9834,  1072, 11986,   232, 12333, 14768,  7835, 12076,  1870,\n",
      "        1537,    48, 14352, 16794, 11124,  6247,   438,  4214,  2954,\n",
      "       15603, 12415, 14823, 13401,  9775,  3874, 10401,  4934],\n",
      "      dtype=int32)>, <tf.Tensor: shape=(), dtype=int32, numpy=24>)\n"
     ]
    }
   ],
   "source": [
    "train = tf.data.experimental.CsvDataset('immune-c2s/train.csv', [tf.string, tf.int32], header=False)\n",
    "test = tf.data.experimental.CsvDataset('immune-c2s/test.csv', [tf.string, tf.int32], header=False)\n",
    "val = tf.data.experimental.CsvDataset('immune-c2s/val.csv', [tf.string, tf.int32], header=False)\n",
    "\n",
    "# Pre-compute preprocessed batches on the fly on the CPU.\n",
    "finetune_ds = train.map(\n",
    "    preprocess, num_parallel_calls=tf.data.AUTOTUNE\n",
    ").prefetch(tf.data.AUTOTUNE)\n",
    "\n",
    "finetune_test_ds = test.map(\n",
    "    preprocess, num_parallel_calls=tf.data.AUTOTUNE\n",
    ").prefetch(tf.data.AUTOTUNE)\n",
    "\n",
    "finetune_val_ds = val.map(\n",
    "    preprocess, num_parallel_calls=tf.data.AUTOTUNE\n",
    ").prefetch(tf.data.AUTOTUNE)\n",
    "\n",
    "print(finetune_val_ds.take(1).get_single_element())"
   ]
  },
  {
   "cell_type": "markdown",
   "id": "acd55285-6db9-4b40-8220-80e839dc5a0e",
   "metadata": {},
   "source": [
    "## Convert Data"
   ]
  },
  {
   "cell_type": "code",
   "execution_count": 7,
   "id": "67fe465f-fc18-4412-a368-c4dc0619b973",
   "metadata": {},
   "outputs": [],
   "source": [
    "def convert_to_numpy(tf_dataset):\n",
    "    \"\"\" Convert a tf.data.Dataset to numpy arrays for sklearn compatibility. \"\"\"\n",
    "    features_list, labels_list = [], []\n",
    "    for features, labels in tf_dataset:\n",
    "        features_list.append(features)\n",
    "        labels_list.append(labels)\n",
    "    return np.array(features_list), np.array(labels_list)"
   ]
  },
  {
   "cell_type": "code",
   "execution_count": 8,
   "id": "da8c523d-77ea-4607-830d-927e80917710",
   "metadata": {},
   "outputs": [
    {
     "name": "stderr",
     "output_type": "stream",
     "text": [
      "2024-05-06 02:19:30.933910: W tensorflow/core/framework/local_rendezvous.cc:404] Local rendezvous is aborting with status: OUT_OF_RANGE: End of sequence\n",
      "2024-05-06 02:19:34.617791: W tensorflow/core/framework/local_rendezvous.cc:404] Local rendezvous is aborting with status: OUT_OF_RANGE: End of sequence\n",
      "2024-05-06 02:19:36.996997: W tensorflow/core/framework/local_rendezvous.cc:404] Local rendezvous is aborting with status: OUT_OF_RANGE: End of sequence\n"
     ]
    }
   ],
   "source": [
    "# Load Data\n",
    "X_train, y_train = convert_to_numpy(finetune_ds)\n",
    "X_test, y_test = convert_to_numpy(finetune_test_ds)\n",
    "X_val, y_val = convert_to_numpy(finetune_val_ds)"
   ]
  },
  {
   "cell_type": "markdown",
   "id": "31479b8f-b4c1-48c6-ba2b-7576dcdce65f",
   "metadata": {},
   "source": [
    "## Baseline Models"
   ]
  },
  {
   "cell_type": "code",
   "execution_count": 11,
   "id": "4a82b8c9-b6ee-4d62-9947-5f30682fca82",
   "metadata": {},
   "outputs": [
    {
     "name": "stdout",
     "output_type": "stream",
     "text": [
      "Training Naive Bayes...\n",
      "Naive Bayes trained successfully\n",
      "Training MLP (Neural Network)...\n",
      "Iteration 1, loss = 27.00735340\n",
      "Iteration 2, loss = 12.90173372\n",
      "Iteration 3, loss = 5.49376756\n",
      "Iteration 4, loss = 3.73693186\n",
      "Iteration 5, loss = 3.43925650\n",
      "Iteration 6, loss = 3.81799249\n",
      "Iteration 7, loss = 3.05029645\n",
      "Iteration 8, loss = 2.93890494\n",
      "Iteration 9, loss = 2.90681398\n",
      "Iteration 10, loss = 2.89540567\n",
      "Iteration 11, loss = 2.89035228\n",
      "Iteration 12, loss = 2.88780232\n",
      "Iteration 13, loss = 2.88645665\n",
      "Iteration 14, loss = 2.88575295\n",
      "Iteration 15, loss = 2.88538216\n",
      "Iteration 16, loss = 2.88517982\n",
      "Iteration 17, loss = 2.88507422\n",
      "Iteration 18, loss = 2.88501587\n",
      "Iteration 19, loss = 2.88496583\n",
      "Iteration 20, loss = 2.88492495\n",
      "Iteration 21, loss = 2.88493968\n",
      "Iteration 22, loss = 2.88491888\n",
      "Iteration 23, loss = 2.88492156\n",
      "Iteration 24, loss = 2.88491149\n",
      "Iteration 25, loss = 2.88490369\n",
      "Iteration 26, loss = 2.88490845\n",
      "Iteration 27, loss = 2.88490156\n",
      "Iteration 28, loss = 3.09611378\n",
      "Training loss did not improve more than tol=0.000100 for 10 consecutive epochs. Stopping.\n",
      "MLP (Neural Network) trained successfully\n",
      "Training Random Forest...\n"
     ]
    },
    {
     "name": "stderr",
     "output_type": "stream",
     "text": [
      "[Parallel(n_jobs=32)]: Using backend ThreadingBackend with 32 concurrent workers.\n",
      "[Parallel(n_jobs=32)]: Done 100 out of 100 | elapsed:   30.1s finished\n",
      "/ihome/kyin/niandrew/.conda/envs/tf_gpu/lib/python3.9/site-packages/joblib/externals/loky/backend/fork_exec.py:38: RuntimeWarning: os.fork() was called. os.fork() is incompatible with multithreaded code, and JAX is multithreaded, so this will likely lead to a deadlock.\n",
      "  pid = os.fork()\n"
     ]
    },
    {
     "name": "stdout",
     "output_type": "stream",
     "text": [
      "Random Forest trained successfully\n",
      "Training Logistic Regression...\n"
     ]
    },
    {
     "name": "stderr",
     "output_type": "stream",
     "text": [
      "[Parallel(n_jobs=32)]: Using backend LokyBackend with 32 concurrent workers.\n"
     ]
    },
    {
     "name": "stdout",
     "output_type": "stream",
     "text": [
      "RUNNING THE L-BFGS-B CODE\n",
      "\n",
      "           * * *\n",
      "\n",
      "Machine precision = 2.220D-16\n",
      " N =        17955     M =           10\n",
      "\n",
      "At X0         0 variables are exactly at the bounds\n",
      "\n",
      "At iterate    0    f=  3.55535D+00    |proj g|=  2.44675D+03\n"
     ]
    },
    {
     "name": "stderr",
     "output_type": "stream",
     "text": [
      " This problem is unconstrained.\n"
     ]
    },
    {
     "name": "stdout",
     "output_type": "stream",
     "text": [
      "\n",
      "At iterate   50    f=  2.47503D+00    |proj g|=  1.36946D+02\n",
      "\n",
      "At iterate  100    f=  2.40313D+00    |proj g|=  5.54175D+01\n",
      "\n",
      "At iterate  150    f=  2.38649D+00    |proj g|=  3.84029D+01\n",
      "\n",
      "At iterate  200    f=  2.37568D+00    |proj g|=  3.77182D+01\n",
      "\n",
      "At iterate  250    f=  2.37021D+00    |proj g|=  4.91331D+01\n",
      "\n",
      "At iterate  300    f=  2.36541D+00    |proj g|=  3.97481D+01\n",
      "\n",
      "At iterate  350    f=  2.36258D+00    |proj g|=  2.57730D+01\n",
      "\n",
      "At iterate  400    f=  2.36015D+00    |proj g|=  2.09298D+01\n",
      "\n",
      "At iterate  450    f=  2.35888D+00    |proj g|=  2.37976D+01\n",
      "\n",
      "At iterate  500    f=  2.35816D+00    |proj g|=  8.82157D+00\n",
      "\n",
      "At iterate  550    f=  2.35733D+00    |proj g|=  1.04246D+01\n",
      "\n",
      "At iterate  600    f=  2.35660D+00    |proj g|=  4.64794D+00\n",
      "\n",
      "At iterate  650    f=  2.35598D+00    |proj g|=  9.98990D+00\n",
      "\n",
      "At iterate  700    f=  2.35545D+00    |proj g|=  5.60184D+00\n",
      "\n",
      "At iterate  750    f=  2.35506D+00    |proj g|=  5.97272D+00\n",
      "\n",
      "At iterate  800    f=  2.35477D+00    |proj g|=  6.08163D+00\n",
      "\n",
      "At iterate  850    f=  2.35449D+00    |proj g|=  3.64399D+00\n",
      "\n",
      "At iterate  900    f=  2.35428D+00    |proj g|=  3.72965D+00\n",
      "\n",
      "At iterate  950    f=  2.35414D+00    |proj g|=  5.21126D+00\n",
      "\n",
      "At iterate 1000    f=  2.35403D+00    |proj g|=  4.21121D+00\n",
      "\n",
      "           * * *\n",
      "\n",
      "Tit   = total number of iterations\n",
      "Tnf   = total number of function evaluations\n",
      "Tnint = total number of segments explored during Cauchy searches\n",
      "Skip  = number of BFGS updates skipped\n",
      "Nact  = number of active bounds at final generalized Cauchy point\n",
      "Projg = norm of the final projected gradient\n",
      "F     = final function value\n",
      "\n",
      "           * * *\n",
      "\n",
      "   N    Tit     Tnf  Tnint  Skip  Nact     Projg        F\n",
      "17955   1000   1047      1     0     0   4.211D+00   2.354D+00\n",
      "  F =   2.3540333951850507     \n",
      "\n",
      "STOP: TOTAL NO. of ITERATIONS REACHED LIMIT                 \n",
      "Logistic Regression trained successfully\n"
     ]
    },
    {
     "name": "stderr",
     "output_type": "stream",
     "text": [
      "/ihome/kyin/niandrew/.conda/envs/tf_gpu/lib/python3.9/site-packages/sklearn/linear_model/_logistic.py:469: ConvergenceWarning: lbfgs failed to converge (status=1):\n",
      "STOP: TOTAL NO. of ITERATIONS REACHED LIMIT.\n",
      "\n",
      "Increase the number of iterations (max_iter) or scale the data as shown in:\n",
      "    https://scikit-learn.org/stable/modules/preprocessing.html\n",
      "Please also refer to the documentation for alternative solver options:\n",
      "    https://scikit-learn.org/stable/modules/linear_model.html#logistic-regression\n",
      "  n_iter_i = _check_optimize_result(\n"
     ]
    }
   ],
   "source": [
    "# Initialize models\n",
    "models_multi = {\n",
    "    \"Naive Bayes\": MultinomialNB(),\n",
    "    \"MLP (Neural Network)\": MLPClassifier(hidden_layer_sizes=(256,256), activation='relu', solver='adam', verbose=1),\n",
    "    \"Random Forest\": RandomForestClassifier(verbose=1, n_jobs=32),\n",
    "    \"Logistic Regression\": LogisticRegression(max_iter=1000, multi_class='multinomial', solver='lbfgs', verbose=1, n_jobs=32)\n",
    "}\n",
    "\n",
    "# Train each model\n",
    "for name, model in models_multi.items():\n",
    "    print(f\"Training {name}...\")\n",
    "    model.fit(X_train, y_train)\n",
    "    print(f\"{name} trained successfully\")"
   ]
  },
  {
   "cell_type": "code",
   "execution_count": 14,
   "id": "d581e012-602b-46ef-8a80-02f11898eb12",
   "metadata": {},
   "outputs": [],
   "source": [
    "# Save models\n",
    "with open(\"model/baseline_multi.pkl\", 'wb') as file:\n",
    "    pickle.dump(models_multi, file)"
   ]
  },
  {
   "cell_type": "code",
   "execution_count": 15,
   "id": "064b96bb-0d31-4b2b-a0ef-18601013eae1",
   "metadata": {},
   "outputs": [],
   "source": [
    "with open(\"model/baseline_multi.pkl\", 'rb') as file:\n",
    "    models_multi = pickle.load(file)"
   ]
  },
  {
   "cell_type": "code",
   "execution_count": 17,
   "id": "f553340a-dc9e-45cf-afe9-e5bb5016429b",
   "metadata": {},
   "outputs": [
    {
     "name": "stderr",
     "output_type": "stream",
     "text": [
      "[Parallel(n_jobs=32)]: Using backend ThreadingBackend with 32 concurrent workers.\n",
      "[Parallel(n_jobs=32)]: Done 100 out of 100 | elapsed:    0.2s finished\n",
      "/ihome/kyin/niandrew/.conda/envs/tf_gpu/lib/python3.9/site-packages/keras/src/saving/saving_lib.py:415: UserWarning: Skipping variable loading for optimizer 'adamw', because it has 206 variables whereas the saved optimizer has 74 variables. \n",
      "  saveable.load_own_variables(weights_store.get(inner_path))\n",
      "/ihome/kyin/niandrew/.conda/envs/tf_gpu/lib/python3.9/site-packages/keras/src/layers/layer.py:877: UserWarning: Layer 'position_embedding' (of type PositionEmbedding) was passed an input with a mask attached to it. However, this layer does not support masking and will therefore destroy the mask information. Downstream layers will not see the mask.\n",
      "  warnings.warn(\n",
      "/ihome/kyin/niandrew/.conda/envs/tf_gpu/lib/python3.9/site-packages/keras/src/layers/layer.py:877: UserWarning: Layer 'query' (of type EinsumDense) was passed an input with a mask attached to it. However, this layer does not support masking and will therefore destroy the mask information. Downstream layers will not see the mask.\n",
      "  warnings.warn(\n",
      "/ihome/kyin/niandrew/.conda/envs/tf_gpu/lib/python3.9/site-packages/keras/src/layers/layer.py:877: UserWarning: Layer 'key' (of type EinsumDense) was passed an input with a mask attached to it. However, this layer does not support masking and will therefore destroy the mask information. Downstream layers will not see the mask.\n",
      "  warnings.warn(\n",
      "/ihome/kyin/niandrew/.conda/envs/tf_gpu/lib/python3.9/site-packages/keras/src/layers/layer.py:877: UserWarning: Layer 'value' (of type EinsumDense) was passed an input with a mask attached to it. However, this layer does not support masking and will therefore destroy the mask information. Downstream layers will not see the mask.\n",
      "  warnings.warn(\n",
      "/ihome/kyin/niandrew/.conda/envs/tf_gpu/lib/python3.9/site-packages/keras/src/layers/layer.py:877: UserWarning: Layer 'query' (of type EinsumDense) was passed an input with a mask attached to it. However, this layer does not support masking and will therefore destroy the mask information. Downstream layers will not see the mask.\n",
      "  warnings.warn(\n",
      "/ihome/kyin/niandrew/.conda/envs/tf_gpu/lib/python3.9/site-packages/keras/src/layers/layer.py:877: UserWarning: Layer 'key' (of type EinsumDense) was passed an input with a mask attached to it. However, this layer does not support masking and will therefore destroy the mask information. Downstream layers will not see the mask.\n",
      "  warnings.warn(\n",
      "/ihome/kyin/niandrew/.conda/envs/tf_gpu/lib/python3.9/site-packages/keras/src/layers/layer.py:877: UserWarning: Layer 'value' (of type EinsumDense) was passed an input with a mask attached to it. However, this layer does not support masking and will therefore destroy the mask information. Downstream layers will not see the mask.\n",
      "  warnings.warn(\n"
     ]
    },
    {
     "name": "stdout",
     "output_type": "stream",
     "text": [
      "\u001b[1m856/856\u001b[0m \u001b[32m━━━━━━━━━━━━━━━━━━━━\u001b[0m\u001b[37m\u001b[0m \u001b[1m21s\u001b[0m 16ms/step\n"
     ]
    }
   ],
   "source": [
    "predictions = {}\n",
    "\n",
    "for name, model in models_multi.items():\n",
    "    predictions[name] = model.predict(X_val)\n",
    "\n",
    "def predict_keras_model(model, dataset):\n",
    "    \"\"\" Predict using a Keras model with a tf.data.Dataset. \"\"\"\n",
    "    predictions = model.predict(dataset)\n",
    "    # Assuming binary classification and sigmoid activation, adjust if necessary\n",
    "    return np.argmax(predictions, axis=1)\n",
    "    \n",
    "# Add Keras model predictions\n",
    "finetuning_model = keras.models.load_model(\"model/geneformer_cell_classifier_multi.keras\", compile=True)\n",
    "predictions[\"Geneformer\"] = predict_keras_model(finetuning_model, X_val)"
   ]
  },
  {
   "cell_type": "code",
   "execution_count": 18,
   "id": "37377763-e932-4eee-94fb-7713fa9a7752",
   "metadata": {},
   "outputs": [],
   "source": [
    "model_accuracies_multi = {}\n",
    "\n",
    "for name, pred in predictions.items():\n",
    "    model_accuracies_multi[name] = accuracy_score(y_val, pred)"
   ]
  },
  {
   "cell_type": "code",
   "execution_count": 19,
   "id": "244b9015-5a22-4a77-87a3-0231c22759ca",
   "metadata": {},
   "outputs": [
    {
     "data": {
      "image/png": "[encoded data removed]",
      "text/plain": [
       "<Figure size 1200x800 with 1 Axes>"
      ]
     },
     "metadata": {},
     "output_type": "display_data"
    }
   ],
   "source": [
    "# Plotting the accuracies\n",
    "plt.figure(figsize=(12, 8))\n",
    "plt.bar(model_accuracies_multi.keys(), model_accuracies_multi.values())\n",
    "plt.xlabel('Models')\n",
    "plt.ylabel('Accuracy')\n",
    "plt.title('Comparison of Model Accuracies')\n",
    "plt.ylim([0, 1])  # Accuracy ranges from 0 to 1\n",
    "plt.show()"
   ]
  },
  {
   "cell_type": "markdown",
   "id": "97989df0-4627-4ae7-8961-056bcc511305",
   "metadata": {},
   "source": [
    "## Load Data"
   ]
  },
  {
   "cell_type": "code",
   "execution_count": 20,
   "id": "eb600567-10b5-4cd9-8afc-eb86627f5e4f",
   "metadata": {},
   "outputs": [],
   "source": [
    "# Load Vocab File\n",
    "with open('token_dictionary.pkl', 'rb') as file:\n",
    "    vocab_dict = pickle.load(file)\n",
    "vocab_list = list(vocab_dict.keys())\n",
    "vocab_list.append('<unk>')\n",
    "VOCAB_SIZE = len(vocab_list)\n",
    "\n",
    "# Load Cell Type Label File\n",
    "with open('immune-c2s/label_binary_dictionary.pkl', 'rb') as file:\n",
    "    label_dict = pickle.load(file)\n",
    "label_list = list(label_dict.keys())\n",
    "NUM_CLASSES = len(label_dict)"
   ]
  },
  {
   "cell_type": "code",
   "execution_count": 21,
   "id": "d67fecc2-1133-4cd4-bd35-a378672159ca",
   "metadata": {},
   "outputs": [],
   "source": [
    "# Finetuning\n",
    "\n",
    "# Tokenizer\n",
    "tokenizer = keras_nlp.tokenizers.WordPieceTokenizer(\n",
    "    vocabulary=vocab_list,\n",
    "    sequence_length=SEQ_LENGTH,\n",
    "    lowercase=False,\n",
    "    oov_token='<unk>',\n",
    "    split=True\n",
    ")\n",
    "\n",
    "def preprocess(inputs, labels):\n",
    "    return tokenizer(inputs), labels"
   ]
  },
  {
   "cell_type": "code",
   "execution_count": 22,
   "id": "2bbcee27-dbc5-4ac8-a4e6-48002afd54fc",
   "metadata": {
    "scrolled": true
   },
   "outputs": [
    {
     "name": "stdout",
     "output_type": "stream",
     "text": [
      "(<tf.Tensor: shape=(512,), dtype=int32, numpy=\n",
      "array([ 1720,  8385, 12172, 16596,   512, 18941, 25426,  3906,  7502,\n",
      "       25426, 11842, 17200, 16979,  1876, 13620, 17247,  8229, 10887,\n",
      "       19823, 17326,  8256, 19437,  8981,  3482,  5401, 25426,   309,\n",
      "        7892,  9945, 17314, 17303,  1522,  2400, 11049,  6022,   299,\n",
      "       25426, 25426, 10877,  5448,   454,  3792, 10888,  8231,  6861,\n",
      "       17905,   998, 16445,  3502, 19999, 17297, 12504,  7913, 16980,\n",
      "        9940, 14180,  3537,   396,  3192,  6681,  2985,  3664,  5304,\n",
      "       17295,  8674, 10225, 25426, 25426, 11358, 20069, 10639, 25426,\n",
      "       10511,  7606, 17269,  2649, 25426,  2522, 11347, 11319,  8565,\n",
      "        3081,   695,  8456, 25426,  9215,  1984, 25426, 25426, 25426,\n",
      "       14125,  4387, 10871, 25426,  2992,  5950,  3141, 16910, 13062,\n",
      "       25426, 25426, 25426,  4698,  6238, 13128,  1823, 25426, 17005,\n",
      "        8626, 13058,  7492, 15803,  5246,  5212,  7111, 10689,  2360,\n",
      "        8578,  6206,  9581,  2770, 14120, 16348,   856,   458, 25426,\n",
      "       19475, 18971,  4761,  3852, 13466,  8783, 15993, 19770, 17208,\n",
      "        6567,  6427,  3735,  1806,  6961,  8386, 12529,  4809,  8456,\n",
      "       16572,  5648, 17715, 25426, 14983, 16906,   553, 15602, 10601,\n",
      "        1861,  4547,  5354,  1014, 12688,  4499,  4919,  6376, 25426,\n",
      "       25426, 25426,  1513, 13506, 25426,  7768,  6128,  4774,  1791,\n",
      "       25251, 16297, 10119, 25032, 19788,  1837, 16913,   457, 11032,\n",
      "       10862,  1873, 18489,  1543,   805,  6881,  8953, 11856, 18589,\n",
      "        2183,  1626,  8446,  3041, 13139,  8177,  2250, 18798, 19925,\n",
      "        6442, 17228, 17071, 11543, 15658,  2124, 11185,  7422,  5675,\n",
      "         955,  9142,  3880, 14628, 13774, 12698,  6532,  6419,  1129,\n",
      "        5613, 11897,  8345, 18591,   971,  7133, 11828, 14170,  2447,\n",
      "       16812, 16621,  8425,  7027,  7301,  9500,    76,  5267,  2804,\n",
      "       18369, 20340,  7326,  7457, 17182, 10401, 20509, 14047,  7521,\n",
      "        5750,  6090, 11924, 13620,  7556, 12520,  3950,  8160,  7188,\n",
      "        5095,  1311, 16481, 10949, 13406, 25426, 25426, 25426, 13173,\n",
      "       11284, 25426, 25426, 25426,  1642, 14296,  5081,  3039,  1650,\n",
      "       10292,  2951,  1313, 12378, 20440,  4562, 13447,  8208,  7266,\n",
      "        5421,  4406,  3998,  1532,  1279,  1364,  4191, 17919, 12400,\n",
      "        8090,  3351,  8276,  5906, 10390,  1996,  1557,  1952, 25426,\n",
      "        7431,  6549, 14388,  6252,  4880,  9089,  4825,  6960, 11143,\n",
      "       15506, 13900,  3321, 25426, 25426, 25426,  7345, 10352,  3560,\n",
      "       11986, 25426,  2710,  2848, 17877,  6991,  4337,  7721, 24456,\n",
      "       12509, 13698,  7363,  1716,  5074, 13272,   700, 25426, 12182,\n",
      "        8385,  1968, 17236, 25426,  7553, 10947,  3083, 12055,  4225,\n",
      "       16123,  7641,  8225, 14552,  4170,  7958,  7903, 12907,  3092,\n",
      "       18539, 16165, 12076, 24488,  8965,  3758,  7252,  7596,  4205,\n",
      "        9298,  4214, 17263, 10600,  2399, 12494,  5357, 15254, 11467,\n",
      "        1870,  4088, 13468, 25426,  7206, 16154, 13744, 10245,  3652,\n",
      "       12018,  7041, 16079, 11666, 11817,   951,  8383, 12744,  3942,\n",
      "       17632, 12261,  5891, 17224, 14014,  8306,  1614,  5785,  2818,\n",
      "        3094, 13352,  5748, 10678,  7380, 13327, 12138,  4766, 14947,\n",
      "       16683,  2675,  7420,  9244,  1007, 15818, 14149,  2486, 14037,\n",
      "       16725, 25426, 25426, 25426, 19797,  3468,  1142,   590, 25426,\n",
      "       25426, 25426,  6533, 16714, 17050,  5592,  2218, 14199,  7762,\n",
      "        6849,  4067,  5048,  8752, 15679,  7295, 20519,  7962, 13976,\n",
      "        5682,  1646, 11572,  4333,  2631, 20590,  5844, 23871,  7029,\n",
      "         470, 12600, 25426, 11457,  9280,  2453, 19848,  2109,  9120,\n",
      "         890, 15434,  5866, 25426, 25426, 25426,  9599,  9225,  5368,\n",
      "        5073,  6927, 10491,  4951, 14956, 12409,  8277,  5995, 20601,\n",
      "       13455, 18953, 12759,  2732, 17451,  5847,  7013,  1981, 11406,\n",
      "        6357, 15635,  2244,  2104, 20410,  4794,  5569,  8877,  6736,\n",
      "       10121,  3866,  8129, 17280, 12379, 25426,  6383, 10753, 14679,\n",
      "        9536, 16990,  2658,  8205,  1032,  1640, 12460,  8860],\n",
      "      dtype=int32)>, <tf.Tensor: shape=(), dtype=int32, numpy=1>)\n"
     ]
    }
   ],
   "source": [
    "train = tf.data.experimental.CsvDataset('immune-c2s/train-binary.csv', [tf.string, tf.int32], header=False)\n",
    "test = tf.data.experimental.CsvDataset('immune-c2s/test-binary.csv', [tf.string, tf.int32], header=False)\n",
    "val = tf.data.experimental.CsvDataset('immune-c2s/val-binary.csv', [tf.string, tf.int32], header=False)\n",
    "\n",
    "# Pre-compute preprocessed batches on the fly on the CPU.\n",
    "finetune_ds = train.map(\n",
    "    preprocess, num_parallel_calls=tf.data.AUTOTUNE\n",
    ").prefetch(tf.data.AUTOTUNE)\n",
    "\n",
    "finetune_test_ds = test.map(\n",
    "    preprocess, num_parallel_calls=tf.data.AUTOTUNE\n",
    ").prefetch(tf.data.AUTOTUNE)\n",
    "\n",
    "finetune_val_ds = val.map(\n",
    "    preprocess, num_parallel_calls=tf.data.AUTOTUNE\n",
    ").prefetch(tf.data.AUTOTUNE)\n",
    "\n",
    "print(finetune_val_ds.take(1).get_single_element())"
   ]
  },
  {
   "cell_type": "markdown",
   "id": "a3a90ced-80f6-4bb7-af05-f241ba07a96f",
   "metadata": {},
   "source": [
    "## Convert Data"
   ]
  },
  {
   "cell_type": "code",
   "execution_count": 23,
   "id": "6f1218fb-2e92-4631-8c9b-0641d7e33cd1",
   "metadata": {},
   "outputs": [],
   "source": [
    "def convert_to_numpy(tf_dataset):\n",
    "    \"\"\" Convert a tf.data.Dataset to numpy arrays for sklearn compatibility. \"\"\"\n",
    "    features_list, labels_list = [], []\n",
    "    for features, labels in tf_dataset:\n",
    "        features_list.append(features)\n",
    "        labels_list.append(labels)\n",
    "    return np.array(features_list), np.array(labels_list)"
   ]
  },
  {
   "cell_type": "code",
   "execution_count": 24,
   "id": "600421f7-27cf-4542-aab6-16b8598891ef",
   "metadata": {},
   "outputs": [
    {
     "name": "stderr",
     "output_type": "stream",
     "text": [
      "2024-05-06 02:33:00.947997: W tensorflow/core/framework/local_rendezvous.cc:404] Local rendezvous is aborting with status: OUT_OF_RANGE: End of sequence\n",
      "2024-05-06 02:33:01.639666: W tensorflow/core/framework/local_rendezvous.cc:404] Local rendezvous is aborting with status: OUT_OF_RANGE: End of sequence\n",
      "2024-05-06 02:33:02.099339: W tensorflow/core/framework/local_rendezvous.cc:404] Local rendezvous is aborting with status: OUT_OF_RANGE: End of sequence\n"
     ]
    }
   ],
   "source": [
    "# Load Data\n",
    "X_train, y_train = convert_to_numpy(finetune_ds)\n",
    "X_test, y_test = convert_to_numpy(finetune_test_ds)\n",
    "X_val, y_val = convert_to_numpy(finetune_val_ds)"
   ]
  },
  {
   "cell_type": "markdown",
   "id": "d69c3a50-b33b-4326-a124-41d8b3b925d8",
   "metadata": {},
   "source": [
    "## Baseline Models"
   ]
  },
  {
   "cell_type": "code",
   "execution_count": 26,
   "id": "9aea5d31-810f-4920-bf3c-3a725ca4ba52",
   "metadata": {},
   "outputs": [
    {
     "name": "stdout",
     "output_type": "stream",
     "text": [
      "Training Naive Bayes...\n",
      "Naive Bayes trained successfully\n",
      "Training Random Forest...\n"
     ]
    },
    {
     "name": "stderr",
     "output_type": "stream",
     "text": [
      "[Parallel(n_jobs=32)]: Using backend ThreadingBackend with 32 concurrent workers.\n"
     ]
    },
    {
     "name": "stdout",
     "output_type": "stream",
     "text": [
      "Random Forest trained successfully\n",
      "Training Logistic Regression...\n"
     ]
    },
    {
     "name": "stderr",
     "output_type": "stream",
     "text": [
      "[Parallel(n_jobs=32)]: Done 100 out of 100 | elapsed:    2.5s finished\n",
      "[Parallel(n_jobs=32)]: Using backend LokyBackend with 32 concurrent workers.\n",
      "/ihome/kyin/niandrew/.conda/envs/tf_gpu/lib/python3.9/site-packages/joblib/externals/loky/backend/fork_exec.py:38: RuntimeWarning: os.fork() was called. os.fork() is incompatible with multithreaded code, and JAX is multithreaded, so this will likely lead to a deadlock.\n",
      "  pid = os.fork()\n"
     ]
    },
    {
     "name": "stdout",
     "output_type": "stream",
     "text": [
      "RUNNING THE L-BFGS-B CODE\n",
      "\n",
      "           * * *\n",
      "\n",
      "Machine precision = 2.220D-16\n",
      " N =          513     M =           10\n",
      "\n",
      "At X0         0 variables are exactly at the bounds\n",
      "\n",
      "At iterate    0    f=  6.93147D-01    |proj g|=  3.59712D+03\n"
     ]
    },
    {
     "name": "stderr",
     "output_type": "stream",
     "text": [
      " This problem is unconstrained.\n"
     ]
    },
    {
     "name": "stdout",
     "output_type": "stream",
     "text": [
      "\n",
      "At iterate   50    f=  4.25233D-01    |proj g|=  4.07238D-01\n",
      "\n",
      "At iterate  100    f=  4.25233D-01    |proj g|=  3.08285D-01\n",
      "\n",
      "At iterate  150    f=  3.99453D-01    |proj g|=  2.15076D+02\n",
      "\n",
      "At iterate  200    f=  1.26884D-01    |proj g|=  4.23256D+00\n",
      "\n",
      "At iterate  250    f=  1.26812D-01    |proj g|=  4.42395D-01\n",
      "\n",
      "At iterate  300    f=  1.26811D-01    |proj g|=  4.73807D-04\n",
      "\n",
      "           * * *\n",
      "\n",
      "Tit   = total number of iterations\n",
      "Tnf   = total number of function evaluations\n",
      "Tnint = total number of segments explored during Cauchy searches\n",
      "Skip  = number of BFGS updates skipped\n",
      "Nact  = number of active bounds at final generalized Cauchy point\n",
      "Projg = norm of the final projected gradient\n",
      "F     = final function value\n",
      "\n",
      "           * * *\n",
      "\n",
      "   N    Tit     Tnf  Tnint  Skip  Nact     Projg        F\n",
      "  513    305    367      1     0     0   2.858D-04   1.268D-01\n",
      "  F =  0.12681104764772561     \n",
      "\n",
      "CONVERGENCE: REL_REDUCTION_OF_F_<=_FACTR*EPSMCH             \n",
      "Logistic Regression trained successfully\n",
      "Training MLP (Neural Network)...\n",
      "Iteration 1, loss = 15.01284258\n",
      "Iteration 2, loss = 13.76482647\n",
      "Iteration 3, loss = 13.33892803\n",
      "Iteration 4, loss = 12.88712699\n",
      "Iteration 5, loss = 12.29364519\n",
      "Iteration 6, loss = 11.24472900\n",
      "Iteration 7, loss = 10.86780230\n",
      "Iteration 8, loss = 10.17141908\n",
      "Iteration 9, loss = 9.74950957\n",
      "Iteration 10, loss = 9.63993377\n",
      "Iteration 11, loss = 8.77584416\n",
      "Iteration 12, loss = 9.23339490\n",
      "Iteration 13, loss = 8.07274293\n",
      "Iteration 14, loss = 7.68561184\n",
      "Iteration 15, loss = 7.74502468\n",
      "Iteration 16, loss = 6.73028556\n",
      "Iteration 17, loss = 6.30559123\n",
      "Iteration 18, loss = 5.79791864\n",
      "Iteration 19, loss = 5.75682483\n",
      "Iteration 20, loss = 6.29685878\n",
      "Iteration 21, loss = 7.25038572\n",
      "Iteration 22, loss = 5.93004772\n",
      "Iteration 23, loss = 5.40040571\n",
      "Iteration 24, loss = 5.19162824\n",
      "Iteration 25, loss = 5.27488701\n",
      "Iteration 26, loss = 5.39665887\n",
      "Iteration 27, loss = 5.97382861\n",
      "Iteration 28, loss = 5.37725881\n",
      "Iteration 29, loss = 4.49990828\n",
      "Iteration 30, loss = 3.72820928\n",
      "Iteration 31, loss = 4.60521611\n",
      "Iteration 32, loss = 4.06038739\n",
      "Iteration 33, loss = 4.64661271\n",
      "Iteration 34, loss = 4.62826757\n",
      "Iteration 35, loss = 5.32526983\n",
      "Iteration 36, loss = 4.25021673\n",
      "Iteration 37, loss = 5.07828652\n",
      "Iteration 38, loss = 5.98046439\n",
      "Iteration 39, loss = 4.47468439\n",
      "Iteration 40, loss = 2.01425082\n",
      "Iteration 41, loss = 0.69136738\n",
      "Iteration 42, loss = 0.66482406\n",
      "Iteration 43, loss = 0.66106982\n",
      "Iteration 44, loss = 0.65982087\n",
      "Iteration 45, loss = 0.66001718\n",
      "Iteration 46, loss = 0.65981920\n",
      "Iteration 47, loss = 0.65924816\n",
      "Iteration 48, loss = 0.65930167\n",
      "Iteration 49, loss = 0.65970595\n",
      "Iteration 50, loss = 0.66828486\n",
      "Iteration 51, loss = 0.65932576\n",
      "Iteration 52, loss = 0.65922624\n",
      "Iteration 53, loss = 0.67716184\n",
      "Iteration 54, loss = 0.66063742\n",
      "Iteration 55, loss = 0.66049326\n",
      "Iteration 56, loss = 0.66044033\n",
      "Iteration 57, loss = 0.66048905\n",
      "Iteration 58, loss = 0.66055389\n",
      "Training loss did not improve more than tol=0.000100 for 10 consecutive epochs. Stopping.\n",
      "MLP (Neural Network) trained successfully\n"
     ]
    }
   ],
   "source": [
    "# Initialize models\n",
    "models = {\n",
    "    \"Naive Bayes\": MultinomialNB(),\n",
    "    \"Random Forest\": RandomForestClassifier(verbose=1, n_jobs=32),\n",
    "    \"Logistic Regression\": LogisticRegression(max_iter=1000, verbose=1, n_jobs=32),\n",
    "    \"MLP (Neural Network)\": MLPClassifier(hidden_layer_sizes=(256,256), activation='relu', solver='adam', verbose=1)\n",
    "}\n",
    "\n",
    "# Train each model\n",
    "for name, model in models.items():\n",
    "    print(f\"Training {name}...\")\n",
    "    model.fit(X_train, y_train)\n",
    "    print(f\"{name} trained successfully\")"
   ]
  },
  {
   "cell_type": "code",
   "execution_count": 27,
   "id": "5d5e3b3e-5d4f-479d-afc6-692edd08d272",
   "metadata": {},
   "outputs": [],
   "source": [
    "# Save models\n",
    "with open(\"model/baseline.pkl\", 'wb') as file:\n",
    "    pickle.dump(models, file)"
   ]
  },
  {
   "cell_type": "code",
   "execution_count": 28,
   "id": "801d33ca-9aae-4b69-8980-4c2490de1231",
   "metadata": {},
   "outputs": [],
   "source": [
    "with open(\"model/baseline.pkl\", 'rb') as file:\n",
    "    models = pickle.load(file)"
   ]
  },
  {
   "cell_type": "code",
   "execution_count": 29,
   "id": "57ff395d-5510-4cea-9927-9d6d77d1eadc",
   "metadata": {},
   "outputs": [
    {
     "name": "stderr",
     "output_type": "stream",
     "text": [
      "[Parallel(n_jobs=32)]: Using backend ThreadingBackend with 32 concurrent workers.\n",
      "[Parallel(n_jobs=32)]: Done 100 out of 100 | elapsed:    0.0s finished\n",
      "/ihome/kyin/niandrew/.conda/envs/tf_gpu/lib/python3.9/site-packages/keras/src/saving/saving_lib.py:415: UserWarning: Skipping variable loading for optimizer 'adamw', because it has 206 variables whereas the saved optimizer has 74 variables. \n",
      "  saveable.load_own_variables(weights_store.get(inner_path))\n",
      "/ihome/kyin/niandrew/.conda/envs/tf_gpu/lib/python3.9/site-packages/keras/src/layers/layer.py:877: UserWarning: Layer 'position_embedding' (of type PositionEmbedding) was passed an input with a mask attached to it. However, this layer does not support masking and will therefore destroy the mask information. Downstream layers will not see the mask.\n",
      "  warnings.warn(\n",
      "/ihome/kyin/niandrew/.conda/envs/tf_gpu/lib/python3.9/site-packages/keras/src/layers/layer.py:877: UserWarning: Layer 'query' (of type EinsumDense) was passed an input with a mask attached to it. However, this layer does not support masking and will therefore destroy the mask information. Downstream layers will not see the mask.\n",
      "  warnings.warn(\n",
      "/ihome/kyin/niandrew/.conda/envs/tf_gpu/lib/python3.9/site-packages/keras/src/layers/layer.py:877: UserWarning: Layer 'key' (of type EinsumDense) was passed an input with a mask attached to it. However, this layer does not support masking and will therefore destroy the mask information. Downstream layers will not see the mask.\n",
      "  warnings.warn(\n",
      "/ihome/kyin/niandrew/.conda/envs/tf_gpu/lib/python3.9/site-packages/keras/src/layers/layer.py:877: UserWarning: Layer 'value' (of type EinsumDense) was passed an input with a mask attached to it. However, this layer does not support masking and will therefore destroy the mask information. Downstream layers will not see the mask.\n",
      "  warnings.warn(\n"
     ]
    },
    {
     "name": "stdout",
     "output_type": "stream",
     "text": [
      "\u001b[1m121/121\u001b[0m \u001b[32m━━━━━━━━━━━━━━━━━━━━\u001b[0m\u001b[37m\u001b[0m \u001b[1m8s\u001b[0m 58ms/step\n"
     ]
    }
   ],
   "source": [
    "predictions = {}\n",
    "\n",
    "for name, model in models.items():\n",
    "    predictions[name] = model.predict(X_val)\n",
    "\n",
    "def predict_keras_model(model, dataset):\n",
    "    \"\"\" Predict using a Keras model with a tf.data.Dataset. \"\"\"\n",
    "    predictions = model.predict(dataset)\n",
    "    # Assuming binary classification and sigmoid activation, adjust if necessary\n",
    "    return (predictions.ravel() > 0.5).astype(int)\n",
    "    \n",
    "# Add Keras model predictions\n",
    "finetuning_model = keras.models.load_model(\"model/geneformer_cell_classifier_binary.keras\", compile=True)\n",
    "predictions[\"Geneformer\"] = predict_keras_model(finetuning_model, X_val)"
   ]
  },
  {
   "cell_type": "code",
   "execution_count": 30,
   "id": "c8135c93-12ec-4d04-b25b-64ae7dec6de5",
   "metadata": {},
   "outputs": [],
   "source": [
    "model_accuracies = {}\n",
    "\n",
    "for name, pred in predictions.items():\n",
    "    model_accuracies[name] = accuracy_score(y_val, pred)"
   ]
  },
  {
   "cell_type": "code",
   "execution_count": 31,
   "id": "cd79607d-90b0-4302-9688-44755ee700f9",
   "metadata": {},
   "outputs": [
    {
     "data": {
      "image/png": "[encoded data removed]",
      "text/plain": [
       "<Figure size 1200x800 with 1 Axes>"
      ]
     },
     "metadata": {},
     "output_type": "display_data"
    }
   ],
   "source": [
    "# Plotting the accuracies\n",
    "plt.figure(figsize=(12, 8))\n",
    "plt.bar(model_accuracies.keys(), model_accuracies.values())\n",
    "plt.xlabel('Models')\n",
    "plt.ylabel('Accuracy')\n",
    "plt.title('Comparison of Model Accuracies')\n",
    "plt.ylim([0, 1])  # Accuracy ranges from 0 to 1\n",
    "plt.show()"
   ]
  },
  {
   "cell_type": "code",
   "execution_count": 92,
   "id": "2b632134-7d71-49ef-9444-3525de78e60a",
   "metadata": {
    "scrolled": true
   },
   "outputs": [
    {
     "name": "stderr",
     "output_type": "stream",
     "text": [
      "findfont: Font family 'Times New Roman' not found.\n",
      "findfont: Font family 'Times New Roman' not found.\n",
      "findfont: Font family 'Times New Roman' not found.\n",
      "findfont: Font family 'Times New Roman' not found.\n",
      "findfont: Font family 'Times New Roman' not found.\n",
      "findfont: Font family 'Times New Roman' not found.\n",
      "findfont: Font family 'Times New Roman' not found.\n",
      "findfont: Font family 'Times New Roman' not found.\n",
      "findfont: Font family 'Times New Roman' not found.\n",
      "findfont: Font family 'Times New Roman' not found.\n",
      "findfont: Font family 'Times New Roman' not found.\n",
      "findfont: Font family 'Times New Roman' not found.\n",
      "findfont: Font family 'Times New Roman' not found.\n",
      "findfont: Font family 'Times New Roman' not found.\n",
      "findfont: Font family 'Times New Roman' not found.\n",
      "findfont: Font family 'Times New Roman' not found.\n",
      "findfont: Font family 'Times New Roman' not found.\n",
      "findfont: Font family 'Times New Roman' not found.\n",
      "findfont: Font family 'Times New Roman' not found.\n",
      "findfont: Font family 'Times New Roman' not found.\n",
      "findfont: Font family 'Times New Roman' not found.\n",
      "findfont: Font family 'Times New Roman' not found.\n",
      "findfont: Font family 'Times New Roman' not found.\n",
      "findfont: Font family 'Times New Roman' not found.\n",
      "findfont: Font family 'Times New Roman' not found.\n",
      "findfont: Font family 'Times New Roman' not found.\n",
      "findfont: Font family 'Times New Roman' not found.\n",
      "findfont: Font family 'Times New Roman' not found.\n",
      "findfont: Font family 'Times New Roman' not found.\n",
      "findfont: Font family 'Times New Roman' not found.\n",
      "findfont: Font family 'Times New Roman' not found.\n",
      "findfont: Font family 'Times New Roman' not found.\n",
      "findfont: Font family 'Times New Roman' not found.\n",
      "findfont: Font family 'Times New Roman' not found.\n",
      "findfont: Font family 'Times New Roman' not found.\n",
      "findfont: Font family 'Times New Roman' not found.\n",
      "findfont: Font family 'Times New Roman' not found.\n",
      "findfont: Font family 'Times New Roman' not found.\n",
      "findfont: Font family 'Times New Roman' not found.\n",
      "findfont: Font family 'Times New Roman' not found.\n",
      "findfont: Font family 'Times New Roman' not found.\n",
      "findfont: Font family 'Times New Roman' not found.\n",
      "findfont: Font family 'Times New Roman' not found.\n",
      "findfont: Font family 'Times New Roman' not found.\n",
      "findfont: Font family 'Times New Roman' not found.\n",
      "findfont: Font family 'Times New Roman' not found.\n",
      "findfont: Font family 'Times New Roman' not found.\n",
      "findfont: Font family 'Times New Roman' not found.\n",
      "findfont: Font family 'Times New Roman' not found.\n",
      "findfont: Font family 'Times New Roman' not found.\n",
      "findfont: Font family 'Times New Roman' not found.\n",
      "findfont: Font family 'Times New Roman' not found.\n",
      "findfont: Font family 'Times New Roman' not found.\n",
      "findfont: Font family 'Times New Roman' not found.\n",
      "findfont: Font family 'Times New Roman' not found.\n",
      "findfont: Font family 'Times New Roman' not found.\n",
      "findfont: Font family 'Times New Roman' not found.\n",
      "findfont: Font family 'Times New Roman' not found.\n",
      "findfont: Font family 'Times New Roman' not found.\n",
      "findfont: Font family 'Times New Roman' not found.\n",
      "findfont: Font family 'Times New Roman' not found.\n",
      "findfont: Font family 'Times New Roman' not found.\n",
      "findfont: Font family 'Times New Roman' not found.\n",
      "findfont: Font family 'Times New Roman' not found.\n",
      "findfont: Font family 'Times New Roman' not found.\n",
      "findfont: Font family 'Times New Roman' not found.\n",
      "findfont: Font family 'Times New Roman' not found.\n",
      "findfont: Font family 'Times New Roman' not found.\n",
      "findfont: Font family 'Times New Roman' not found.\n",
      "findfont: Font family 'Times New Roman' not found.\n",
      "findfont: Font family 'Times New Roman' not found.\n",
      "findfont: Font family 'Times New Roman' not found.\n",
      "findfont: Font family 'Times New Roman' not found.\n",
      "findfont: Font family 'Times New Roman' not found.\n",
      "findfont: Font family 'Times New Roman' not found.\n",
      "findfont: Font family 'Times New Roman' not found.\n",
      "findfont: Font family 'Times New Roman' not found.\n",
      "findfont: Font family 'Times New Roman' not found.\n",
      "findfont: Font family 'Times New Roman' not found.\n",
      "findfont: Font family 'Times New Roman' not found.\n",
      "findfont: Font family 'Times New Roman' not found.\n",
      "findfont: Font family 'Times New Roman' not found.\n",
      "findfont: Font family 'Times New Roman' not found.\n",
      "findfont: Font family 'Times New Roman' not found.\n",
      "findfont: Font family 'Times New Roman' not found.\n",
      "findfont: Font family 'Times New Roman' not found.\n",
      "findfont: Font family 'Times New Roman' not found.\n",
      "findfont: Font family 'Times New Roman' not found.\n",
      "findfont: Font family 'Times New Roman' not found.\n",
      "findfont: Font family 'Times New Roman' not found.\n",
      "findfont: Font family 'Times New Roman' not found.\n",
      "findfont: Font family 'Times New Roman' not found.\n",
      "findfont: Font family 'Times New Roman' not found.\n",
      "findfont: Font family 'Times New Roman' not found.\n",
      "findfont: Font family 'Times New Roman' not found.\n",
      "findfont: Font family 'Times New Roman' not found.\n",
      "findfont: Font family 'Times New Roman' not found.\n",
      "findfont: Font family 'Times New Roman' not found.\n",
      "findfont: Font family 'Times New Roman' not found.\n",
      "findfont: Font family 'Times New Roman' not found.\n",
      "findfont: Font family 'Times New Roman' not found.\n",
      "findfont: Font family 'Times New Roman' not found.\n",
      "findfont: Font family 'Times New Roman' not found.\n",
      "findfont: Font family 'Times New Roman' not found.\n",
      "findfont: Font family 'Times New Roman' not found.\n",
      "findfont: Font family 'Times New Roman' not found.\n",
      "findfont: Font family 'Times New Roman' not found.\n",
      "findfont: Font family 'Times New Roman' not found.\n",
      "findfont: Font family 'Times New Roman' not found.\n",
      "findfont: Font family 'Times New Roman' not found.\n",
      "findfont: Font family 'Times New Roman' not found.\n",
      "findfont: Font family 'Times New Roman' not found.\n",
      "findfont: Font family 'Times New Roman' not found.\n",
      "findfont: Font family 'Times New Roman' not found.\n",
      "findfont: Font family 'Times New Roman' not found.\n",
      "findfont: Font family 'Times New Roman' not found.\n",
      "findfont: Font family 'Times New Roman' not found.\n",
      "findfont: Font family 'Times New Roman' not found.\n",
      "findfont: Font family 'Times New Roman' not found.\n",
      "findfont: Font family 'Times New Roman' not found.\n",
      "findfont: Font family 'Times New Roman' not found.\n",
      "findfont: Font family 'Times New Roman' not found.\n",
      "findfont: Font family 'Times New Roman' not found.\n",
      "findfont: Font family 'Times New Roman' not found.\n",
      "findfont: Font family 'Times New Roman' not found.\n",
      "findfont: Font family 'Times New Roman' not found.\n",
      "findfont: Font family 'Times New Roman' not found.\n",
      "findfont: Font family 'Times New Roman' not found.\n",
      "findfont: Font family 'Times New Roman' not found.\n",
      "findfont: Font family 'Times New Roman' not found.\n",
      "findfont: Font family 'Times New Roman' not found.\n",
      "findfont: Font family 'Times New Roman' not found.\n",
      "findfont: Font family 'Times New Roman' not found.\n",
      "findfont: Font family 'Times New Roman' not found.\n",
      "findfont: Font family 'Times New Roman' not found.\n",
      "findfont: Font family 'Times New Roman' not found.\n",
      "findfont: Font family 'Times New Roman' not found.\n",
      "findfont: Font family 'Times New Roman' not found.\n",
      "findfont: Font family 'Times New Roman' not found.\n",
      "findfont: Font family 'Times New Roman' not found.\n",
      "findfont: Font family 'Times New Roman' not found.\n",
      "findfont: Font family 'Times New Roman' not found.\n",
      "findfont: Font family 'Times New Roman' not found.\n",
      "findfont: Font family 'Times New Roman' not found.\n",
      "findfont: Font family 'Times New Roman' not found.\n",
      "findfont: Font family 'Times New Roman' not found.\n",
      "findfont: Font family 'Times New Roman' not found.\n",
      "findfont: Font family 'Times New Roman' not found.\n",
      "findfont: Font family 'Times New Roman' not found.\n",
      "findfont: Font family 'Times New Roman' not found.\n",
      "findfont: Font family 'Times New Roman' not found.\n",
      "findfont: Font family 'Times New Roman' not found.\n",
      "findfont: Font family 'Times New Roman' not found.\n",
      "findfont: Font family 'Times New Roman' not found.\n",
      "findfont: Font family 'Times New Roman' not found.\n",
      "findfont: Font family 'Times New Roman' not found.\n",
      "findfont: Font family 'Times New Roman' not found.\n",
      "findfont: Font family 'Times New Roman' not found.\n",
      "findfont: Font family 'Times New Roman' not found.\n",
      "findfont: Font family 'Times New Roman' not found.\n",
      "findfont: Font family 'Times New Roman' not found.\n",
      "findfont: Font family 'Times New Roman' not found.\n",
      "findfont: Font family 'Times New Roman' not found.\n",
      "findfont: Font family 'Times New Roman' not found.\n",
      "findfont: Font family 'Times New Roman' not found.\n",
      "findfont: Font family 'Times New Roman' not found.\n",
      "findfont: Font family 'Times New Roman' not found.\n",
      "findfont: Font family 'Times New Roman' not found.\n",
      "findfont: Font family 'Times New Roman' not found.\n",
      "findfont: Font family 'Times New Roman' not found.\n",
      "findfont: Font family 'Times New Roman' not found.\n",
      "findfont: Font family 'Times New Roman' not found.\n",
      "findfont: Font family 'Times New Roman' not found.\n",
      "findfont: Font family 'Times New Roman' not found.\n",
      "findfont: Font family 'Times New Roman' not found.\n",
      "findfont: Font family 'Times New Roman' not found.\n",
      "findfont: Font family 'Times New Roman' not found.\n",
      "findfont: Font family 'Times New Roman' not found.\n",
      "findfont: Font family 'Times New Roman' not found.\n",
      "findfont: Font family 'Times New Roman' not found.\n",
      "findfont: Font family 'Times New Roman' not found.\n",
      "findfont: Font family 'Times New Roman' not found.\n",
      "findfont: Font family 'Times New Roman' not found.\n",
      "findfont: Font family 'Times New Roman' not found.\n",
      "findfont: Font family 'Times New Roman' not found.\n",
      "findfont: Font family 'Times New Roman' not found.\n",
      "findfont: Font family 'Times New Roman' not found.\n",
      "findfont: Font family 'Times New Roman' not found.\n",
      "findfont: Font family 'Times New Roman' not found.\n",
      "findfont: Font family 'Times New Roman' not found.\n",
      "findfont: Font family 'Times New Roman' not found.\n",
      "findfont: Font family 'Times New Roman' not found.\n",
      "findfont: Font family 'Times New Roman' not found.\n",
      "findfont: Font family 'Times New Roman' not found.\n",
      "findfont: Font family 'Times New Roman' not found.\n",
      "findfont: Font family 'Times New Roman' not found.\n",
      "findfont: Font family 'Times New Roman' not found.\n",
      "findfont: Font family 'Times New Roman' not found.\n",
      "findfont: Font family 'Times New Roman' not found.\n",
      "findfont: Font family 'Times New Roman' not found.\n",
      "findfont: Font family 'Times New Roman' not found.\n",
      "findfont: Font family 'Times New Roman' not found.\n",
      "findfont: Font family 'Times New Roman' not found.\n",
      "findfont: Font family 'Times New Roman' not found.\n",
      "findfont: Font family 'Times New Roman' not found.\n",
      "findfont: Font family 'Times New Roman' not found.\n",
      "findfont: Font family 'Times New Roman' not found.\n",
      "findfont: Font family 'Times New Roman' not found.\n",
      "findfont: Font family 'Times New Roman' not found.\n",
      "findfont: Font family 'Times New Roman' not found.\n",
      "findfont: Font family 'Times New Roman' not found.\n",
      "findfont: Font family 'Times New Roman' not found.\n",
      "findfont: Font family 'Times New Roman' not found.\n",
      "findfont: Font family 'Times New Roman' not found.\n",
      "findfont: Font family 'Times New Roman' not found.\n",
      "findfont: Font family 'Times New Roman' not found.\n",
      "findfont: Font family 'Times New Roman' not found.\n",
      "findfont: Font family 'Times New Roman' not found.\n",
      "findfont: Font family 'Times New Roman' not found.\n",
      "findfont: Font family 'Times New Roman' not found.\n",
      "findfont: Font family 'Times New Roman' not found.\n",
      "findfont: Font family 'Times New Roman' not found.\n",
      "findfont: Font family 'Times New Roman' not found.\n",
      "findfont: Font family 'Times New Roman' not found.\n",
      "findfont: Font family 'Times New Roman' not found.\n",
      "findfont: Font family 'Times New Roman' not found.\n",
      "findfont: Font family 'Times New Roman' not found.\n",
      "findfont: Font family 'Times New Roman' not found.\n",
      "findfont: Font family 'Times New Roman' not found.\n",
      "findfont: Font family 'Times New Roman' not found.\n",
      "findfont: Font family 'Times New Roman' not found.\n",
      "findfont: Font family 'Times New Roman' not found.\n",
      "findfont: Font family 'Times New Roman' not found.\n",
      "findfont: Font family 'Times New Roman' not found.\n",
      "findfont: Font family 'Times New Roman' not found.\n",
      "findfont: Font family 'Times New Roman' not found.\n",
      "findfont: Font family 'Times New Roman' not found.\n"
     ]
    },
    {
     "data": {
      "image/png": "[encoded data removed]",
      "text/plain": [
       "<Figure size 1100x350 with 1 Axes>"
      ]
     },
     "metadata": {
      "needs_background": "light"
     },
     "output_type": "display_data"
    }
   ],
   "source": [
    "labels = sorted(model_accuracies.keys())\n",
    "multiclass_scores = [model_accuracies_multi[label] for label in labels]\n",
    "binary_scores = [model_accuracies[label] for label in labels]\n",
    "\n",
    "x = np.arange(len(labels))  # the label locations\n",
    "width = 0.35  # the width of the bars\n",
    "\n",
    "fig, ax = plt.subplots(figsize=(11, 3.5))  # Set the figure size to 12x8 inches\n",
    "\n",
    "fig.patch.set_alpha(0.0)\n",
    "ax.patch.set_alpha(0.0)  # Setting the axes background to be transparent\n",
    "\n",
    "rects1 = ax.barh(x - width/2, multiclass_scores, width, label='Multiclass', color='#CCE5FF', edgecolor='black', linewidth=2)\n",
    "rects2 = ax.barh(x + width/2, binary_scores, width, label='Binary', color='#CDEB8B', edgecolor='black', linewidth=2)\n",
    "\n",
    "# Add some text for labels, title and custom x-axis tick labels, etc.\n",
    "ax.set_xlabel('Accuracy', fontsize=14)\n",
    "# ax.set_title('Comparison of Geneformer to Baseline')\n",
    "ax.set_yticks(x)\n",
    "ax.set_yticklabels(labels, fontsize=20)\n",
    "legend = ax.legend()\n",
    "legend.get_frame().set_alpha(0.0)  # Make the legend background transparent\n",
    "legend.get_frame().set_linewidth(0.0)  # Removes the box around the legend\n",
    "\n",
    "for spine in ax.spines.values():\n",
    "    spine.set_linewidth(2)\n",
    "        \n",
    "# Bold the label 'Geneformer'\n",
    "for label in ax.get_yticklabels():\n",
    "    if label.get_text() == \"Geneformer\":\n",
    "        label.set_fontweight('bold')\n",
    "        \n",
    "# Function to add labels on bars\n",
    "def autolabel(rects):\n",
    "    for rect in rects:\n",
    "        width = rect.get_width()\n",
    "        ax.annotate('{:.0f}%'.format(100*round(width, 2)),\n",
    "                    xy=(width, rect.get_y() + rect.get_height() / 2),\n",
    "                    xytext=(3, 0),  # Slight offset to the right of the bar end\n",
    "                    textcoords=\"offset points\",\n",
    "                    ha='left', va='center',\n",
    "                    rotation=0)  # Ensures text is horizontal\n",
    "\n",
    "autolabel(rects1)\n",
    "autolabel(rects2)\n",
    "\n",
    "fig.tight_layout()\n",
    "ax.tick_params(axis='x', which='major', labelsize=12, width=2) \n",
    "ax.tick_params(axis='y', which='major', width=2) \n",
    "\n",
    "plt.savefig('baseline.png', format='png', transparent=True, dpi=2400)\n",
    "\n",
    "plt.show()"
   ]
  }
 ],
 "metadata": {
  "kernelspec": {
   "display_name": "Python 3 (ipykernel)",
   "language": "python",
   "name": "python3"
  },
  "language_info": {
   "codemirror_mode": {
    "name": "ipython",
    "version": 3
   },
   "file_extension": ".py",
   "mimetype": "text/x-python",
   "name": "python",
   "nbconvert_exporter": "python",
   "pygments_lexer": "ipython3",
   "version": "3.9.19"
  }
 },
 "nbformat": 4,
 "nbformat_minor": 5
}
